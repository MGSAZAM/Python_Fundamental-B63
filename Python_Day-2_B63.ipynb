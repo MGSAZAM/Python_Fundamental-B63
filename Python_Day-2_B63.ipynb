{
 "cells": [
  {
   "cell_type": "code",
   "execution_count": 1,
   "id": "7b767753",
   "metadata": {},
   "outputs": [
    {
     "name": "stdout",
     "output_type": "stream",
     "text": [
      "hello welcome to the python world\n"
     ]
    }
   ],
   "source": [
    "print ('hello welcome to the python world')"
   ]
  },
  {
   "cell_type": "code",
   "execution_count": null,
   "id": "f5a85402",
   "metadata": {},
   "outputs": [],
   "source": [
    "understanding of variables\n"
   ]
  },
  {
   "cell_type": "code",
   "execution_count": 1,
   "id": "1b7e8397",
   "metadata": {},
   "outputs": [
    {
     "name": "stdout",
     "output_type": "stream",
     "text": [
      "40\n"
     ]
    }
   ],
   "source": [
    "x=10\n",
    "y=30\n",
    "z=x+y\n",
    "print(z)\n"
   ]
  },
  {
   "cell_type": "code",
   "execution_count": 2,
   "id": "7a47ec1d",
   "metadata": {},
   "outputs": [
    {
     "name": "stdout",
     "output_type": "stream",
     "text": [
      "azam\n"
     ]
    }
   ],
   "source": [
    "first_Name='azam'\n",
    "print(first_Name)"
   ]
  },
  {
   "cell_type": "code",
   "execution_count": null,
   "id": "5232a13b",
   "metadata": {},
   "outputs": [],
   "source": [
    "Introduction to data typs in python\n",
    "        "
   ]
  },
  {
   "cell_type": "code",
   "execution_count": null,
   "id": "f580fa00",
   "metadata": {},
   "outputs": [],
   "source": [
    "1. strint...............str\n",
    "2.Number.................Integers(int) and flots(deci)\n",
    "3.List...................list\n",
    "4.Tuples............tuple\n",
    "5.Dictionaries..............dict"
   ]
  },
  {
   "cell_type": "code",
   "execution_count": null,
   "id": "7c631d10",
   "metadata": {},
   "outputs": [],
   "source": [
    "classification of Data typs:\n",
    "    \n",
    "    1. Mutable............Flexible/editable\n",
    "    2. Immutable............fixed"
   ]
  },
  {
   "cell_type": "code",
   "execution_count": null,
   "id": "8d2d49b1",
   "metadata": {},
   "outputs": [],
   "source": [
    "Introduction To string data types:\n",
    "    \n",
    "    Deffination: strings are the series of charectors decleared in quots '',\"\",or ''''''\n"
   ]
  },
  {
   "cell_type": "code",
   "execution_count": 3,
   "id": "0deb7df0",
   "metadata": {},
   "outputs": [
    {
     "ename": "SyntaxError",
     "evalue": "invalid syntax (642562048.py, line 1)",
     "output_type": "error",
     "traceback": [
      "\u001b[1;36m  Input \u001b[1;32mIn [3]\u001b[1;36m\u001b[0m\n\u001b[1;33m    classification : It is classified as immutable data typs\u001b[0m\n\u001b[1;37m                                      ^\u001b[0m\n\u001b[1;31mSyntaxError\u001b[0m\u001b[1;31m:\u001b[0m invalid syntax\n"
     ]
    }
   ],
   "source": [
    "classification : It is classified as immutable data typs\n",
    "    \n",
    "    We can define string data types in three why\n",
    "    \n",
    "    1. Single quote ''\n",
    "    2  double quote \"\"\n",
    "    3.Tripal  quote ''''''\n",
    "    \n",
    "    eg:\n",
    "        name='azam'\n",
    "        print(name)"
   ]
  },
  {
   "cell_type": "code",
   "execution_count": 4,
   "id": "901c0c4a",
   "metadata": {},
   "outputs": [
    {
     "name": "stdout",
     "output_type": "stream",
     "text": [
      "azam\n"
     ]
    }
   ],
   "source": [
    "name='azam'\n",
    "print(name)"
   ]
  },
  {
   "cell_type": "code",
   "execution_count": null,
   "id": "04311354",
   "metadata": {},
   "outputs": [],
   "source": [
    "Introduction to String Method:"
   ]
  },
  {
   "cell_type": "code",
   "execution_count": null,
   "id": "b898b0eb",
   "metadata": {},
   "outputs": [],
   "source": [
    "these are built in program"
   ]
  },
  {
   "cell_type": "code",
   "execution_count": 6,
   "id": "41753f74",
   "metadata": {},
   "outputs": [
    {
     "data": {
      "text/plain": [
       "str"
      ]
     },
     "execution_count": 6,
     "metadata": {},
     "output_type": "execute_result"
    }
   ],
   "source": [
    "type(name)"
   ]
  },
  {
   "cell_type": "code",
   "execution_count": 7,
   "id": "7042c466",
   "metadata": {},
   "outputs": [
    {
     "name": "stdout",
     "output_type": "stream",
     "text": [
      "20000\n"
     ]
    }
   ],
   "source": [
    "x=100\n",
    "y=200\n",
    "z=x*y\n",
    "print(z)"
   ]
  },
  {
   "cell_type": "code",
   "execution_count": 9,
   "id": "0265dafc",
   "metadata": {},
   "outputs": [
    {
     "data": {
      "text/plain": [
       "int"
      ]
     },
     "execution_count": 9,
     "metadata": {},
     "output_type": "execute_result"
    }
   ],
   "source": [
    "type(z)"
   ]
  },
  {
   "cell_type": "code",
   "execution_count": 13,
   "id": "f6178c7e",
   "metadata": {},
   "outputs": [
    {
     "name": "stdout",
     "output_type": "stream",
     "text": [
      "anuj kumar\n"
     ]
    }
   ],
   "source": [
    "FullName='anuj kumar'\n",
    "print(FullName)"
   ]
  },
  {
   "cell_type": "code",
   "execution_count": 14,
   "id": "f6ea595e",
   "metadata": {},
   "outputs": [
    {
     "name": "stdout",
     "output_type": "stream",
     "text": [
      "Anuj Kumar\n"
     ]
    }
   ],
   "source": [
    "print(FullName.title())"
   ]
  },
  {
   "cell_type": "code",
   "execution_count": 15,
   "id": "9e761b42",
   "metadata": {},
   "outputs": [
    {
     "name": "stdout",
     "output_type": "stream",
     "text": [
      "ANUJ KUMAR\n"
     ]
    }
   ],
   "source": [
    "print(FullName.upper())"
   ]
  },
  {
   "cell_type": "code",
   "execution_count": 17,
   "id": "329ab17a",
   "metadata": {},
   "outputs": [
    {
     "name": "stdout",
     "output_type": "stream",
     "text": [
      "anuj kumar\n"
     ]
    }
   ],
   "source": [
    "print(FullName.lower())"
   ]
  },
  {
   "cell_type": "code",
   "execution_count": null,
   "id": "86eac4f4",
   "metadata": {},
   "outputs": [],
   "source": []
  }
 ],
 "metadata": {
  "kernelspec": {
   "display_name": "Python 3 (ipykernel)",
   "language": "python",
   "name": "python3"
  },
  "language_info": {
   "codemirror_mode": {
    "name": "ipython",
    "version": 3
   },
   "file_extension": ".py",
   "mimetype": "text/x-python",
   "name": "python",
   "nbconvert_exporter": "python",
   "pygments_lexer": "ipython3",
   "version": "3.9.12"
  }
 },
 "nbformat": 4,
 "nbformat_minor": 5
}
