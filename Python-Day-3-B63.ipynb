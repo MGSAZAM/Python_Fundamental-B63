{
 "cells": [
  {
   "cell_type": "code",
   "execution_count": null,
   "id": "16b5b2bd",
   "metadata": {},
   "outputs": [],
   "source": [
    "Continuaion with strings:"
   ]
  },
  {
   "cell_type": "code",
   "execution_count": null,
   "id": "8515c096",
   "metadata": {},
   "outputs": [],
   "source": [
    "> Intruduction to f string**"
   ]
  },
  {
   "cell_type": "code",
   "execution_count": null,
   "id": "82eea3af",
   "metadata": {},
   "outputs": [],
   "source": [
    "# general syntax of f strings:"
   ]
  },
  {
   "cell_type": "code",
   "execution_count": null,
   "id": "ae8f8ad7",
   "metadata": {},
   "outputs": [],
   "source": [
    "f 'custom words{placeholder1}{placeholder2}{placeholder3}...{placeholder..n}'"
   ]
  },
  {
   "cell_type": "code",
   "execution_count": 13,
   "id": "1545f7ae",
   "metadata": {},
   "outputs": [],
   "source": [
    "firstname ='naveen'\n",
    "lastname ='kumar'\n",
    "\n"
   ]
  },
  {
   "cell_type": "code",
   "execution_count": null,
   "id": "4ac4776d",
   "metadata": {},
   "outputs": [],
   "source": [
    "#requirement : need to get full name"
   ]
  },
  {
   "cell_type": "code",
   "execution_count": 15,
   "id": "33547c7d",
   "metadata": {},
   "outputs": [
    {
     "name": "stdout",
     "output_type": "stream",
     "text": [
      "naveen kumar\n"
     ]
    }
   ],
   "source": [
    "fullname=f\"{firstname} {lastname}\"\n",
    "print(fullname)"
   ]
  },
  {
   "cell_type": "code",
   "execution_count": 20,
   "id": "2ee89088",
   "metadata": {},
   "outputs": [
    {
     "name": "stdout",
     "output_type": "stream",
     "text": [
      "Naveen Kumar\n"
     ]
    }
   ],
   "source": [
    "print(fullname.title())"
   ]
  },
  {
   "cell_type": "code",
   "execution_count": 22,
   "id": "7ff475e6",
   "metadata": {},
   "outputs": [
    {
     "name": "stdout",
     "output_type": "stream",
     "text": [
      "NAVEEN KUMAR\n"
     ]
    }
   ],
   "source": [
    "print(fullname.upper())"
   ]
  },
  {
   "cell_type": "code",
   "execution_count": 23,
   "id": "983ba5db",
   "metadata": {},
   "outputs": [
    {
     "name": "stdout",
     "output_type": "stream",
     "text": [
      "naveen kumar\n"
     ]
    }
   ],
   "source": [
    "print(fullname.lower())"
   ]
  },
  {
   "cell_type": "code",
   "execution_count": 24,
   "id": "6b1d0454",
   "metadata": {},
   "outputs": [
    {
     "data": {
      "text/plain": [
       "str"
      ]
     },
     "execution_count": 24,
     "metadata": {},
     "output_type": "execute_result"
    }
   ],
   "source": [
    "type(fullname)"
   ]
  },
  {
   "cell_type": "code",
   "execution_count": 25,
   "id": "5ea5bb35",
   "metadata": {},
   "outputs": [
    {
     "data": {
      "text/plain": [
       "str"
      ]
     },
     "execution_count": 25,
     "metadata": {},
     "output_type": "execute_result"
    }
   ],
   "source": [
    "type(firstname)"
   ]
  },
  {
   "cell_type": "code",
   "execution_count": 33,
   "id": "980dcddb",
   "metadata": {},
   "outputs": [
    {
     "name": "stdout",
     "output_type": "stream",
     "text": [
      "well done naveen,Naveen Kumar\n"
     ]
    }
   ],
   "source": [
    "print(f\"well done naveen,{fullname.title()}\")\n"
   ]
  },
  {
   "cell_type": "code",
   "execution_count": 36,
   "id": "5748eed7",
   "metadata": {},
   "outputs": [],
   "source": [
    "Adding white space to string"
   ]
  },
  {
   "cell_type": "code",
   "execution_count": 37,
   "id": "97eab3e2",
   "metadata": {},
   "outputs": [
    {
     "name": "stdout",
     "output_type": "stream",
     "text": [
      "favourit-fruit:AppleBananaOrangesPineapple\n"
     ]
    }
   ],
   "source": [
    "print(\"favourit-fruit:AppleBananaOrangesPineapple\")"
   ]
  },
  {
   "cell_type": "code",
   "execution_count": 38,
   "id": "2c1e85ca",
   "metadata": {},
   "outputs": [
    {
     "name": "stdout",
     "output_type": "stream",
     "text": [
      "favourit-fruit:\n",
      "Apple\n",
      "Banana\n",
      "Oranges\n",
      "Pineapple\n"
     ]
    }
   ],
   "source": [
    "print(\"favourit-fruit:\\nApple\\nBanana\\nOranges\\nPineapple\")"
   ]
  },
  {
   "cell_type": "code",
   "execution_count": 39,
   "id": "1e8956e8",
   "metadata": {},
   "outputs": [
    {
     "name": "stdout",
     "output_type": "stream",
     "text": [
      "favourit-fruit:Apple\tBanana\tOranges\tPineapple\n"
     ]
    }
   ],
   "source": [
    "print(\"favourit-fruit:Apple\\tBanana\\tOranges\\tPineapple\")"
   ]
  },
  {
   "cell_type": "code",
   "execution_count": 40,
   "id": "d3e26efe",
   "metadata": {},
   "outputs": [
    {
     "name": "stdout",
     "output_type": "stream",
     "text": [
      "favourit-fruit:\n",
      "\tApple\n",
      "\tBanana\n",
      "\tOranges\n",
      "\tPineapple\n"
     ]
    }
   ],
   "source": [
    "print(\"favourit-fruit:\\n\\tApple\\n\\tBanana\\n\\tOranges\\n\\tPineapple\")"
   ]
  },
  {
   "cell_type": "code",
   "execution_count": 41,
   "id": "b3c668a7",
   "metadata": {},
   "outputs": [],
   "source": [
    "#  /n.....>new line delimiter\n",
    "#  /t....>Table delimiter\n"
   ]
  },
  {
   "cell_type": "code",
   "execution_count": null,
   "id": "ba3228af",
   "metadata": {},
   "outputs": [],
   "source": [
    "# Removing White Space From Strings"
   ]
  },
  {
   "cell_type": "code",
   "execution_count": 49,
   "id": "e435aad1",
   "metadata": {},
   "outputs": [
    {
     "name": "stdout",
     "output_type": "stream",
     "text": [
      "classic\n"
     ]
    }
   ],
   "source": [
    "name1='classic'\n",
    "print(name1)"
   ]
  },
  {
   "cell_type": "code",
   "execution_count": 50,
   "id": "64dfe46a",
   "metadata": {},
   "outputs": [
    {
     "name": "stdout",
     "output_type": "stream",
     "text": [
      "   classic\n"
     ]
    }
   ],
   "source": [
    "name2='   classic'\n",
    "print(name2)"
   ]
  },
  {
   "cell_type": "code",
   "execution_count": 51,
   "id": "ac6a13b2",
   "metadata": {},
   "outputs": [
    {
     "name": "stdout",
     "output_type": "stream",
     "text": [
      "classic   \n"
     ]
    }
   ],
   "source": [
    "name3='classic   '\n",
    "print(name3)"
   ]
  },
  {
   "cell_type": "code",
   "execution_count": 52,
   "id": "fd8e0262",
   "metadata": {},
   "outputs": [
    {
     "name": "stdout",
     "output_type": "stream",
     "text": [
      "classic\n"
     ]
    }
   ],
   "source": [
    "print(name2.lstrip())"
   ]
  },
  {
   "cell_type": "code",
   "execution_count": 53,
   "id": "10f36590",
   "metadata": {},
   "outputs": [
    {
     "name": "stdout",
     "output_type": "stream",
     "text": [
      "classic\n"
     ]
    }
   ],
   "source": [
    "print(name3.rstrip())"
   ]
  },
  {
   "cell_type": "code",
   "execution_count": 54,
   "id": "62db938a",
   "metadata": {},
   "outputs": [
    {
     "name": "stdout",
     "output_type": "stream",
     "text": [
      "classic\n"
     ]
    }
   ],
   "source": [
    "print(name.strip())"
   ]
  },
  {
   "cell_type": "code",
   "execution_count": 55,
   "id": "06eaf3cb",
   "metadata": {},
   "outputs": [
    {
     "name": "stdout",
     "output_type": "stream",
     "text": [
      "classic\n"
     ]
    }
   ],
   "source": [
    "print(name2.strip())"
   ]
  },
  {
   "cell_type": "code",
   "execution_count": null,
   "id": "775460eb",
   "metadata": {},
   "outputs": [],
   "source": []
  }
 ],
 "metadata": {
  "kernelspec": {
   "display_name": "Python 3 (ipykernel)",
   "language": "python",
   "name": "python3"
  },
  "language_info": {
   "codemirror_mode": {
    "name": "ipython",
    "version": 3
   },
   "file_extension": ".py",
   "mimetype": "text/x-python",
   "name": "python",
   "nbconvert_exporter": "python",
   "pygments_lexer": "ipython3",
   "version": "3.9.12"
  }
 },
 "nbformat": 4,
 "nbformat_minor": 5
}
