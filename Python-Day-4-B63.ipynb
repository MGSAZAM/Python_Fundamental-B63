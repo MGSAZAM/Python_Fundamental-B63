{
 "cells": [
  {
   "cell_type": "code",
   "execution_count": null,
   "id": "ddd6c5df",
   "metadata": {},
   "outputs": [],
   "source": [
    "Introduction to List Data type"
   ]
  },
  {
   "cell_type": "code",
   "execution_count": null,
   "id": "f166aa56",
   "metadata": {},
   "outputs": [],
   "source": [
    "Deffination: A list is a collection of items decleared in a particular order"
   ]
  },
  {
   "cell_type": "code",
   "execution_count": null,
   "id": "5bf199ab",
   "metadata": {},
   "outputs": [],
   "source": [
    "Classification: It is classified as mutable data types, represented by [] brackets symbole"
   ]
  },
  {
   "cell_type": "code",
   "execution_count": null,
   "id": "48750ccc",
   "metadata": {},
   "outputs": [],
   "source": [
    "example:"
   ]
  },
  {
   "cell_type": "code",
   "execution_count": 5,
   "id": "a9e65033",
   "metadata": {},
   "outputs": [],
   "source": [
    "students = ['joseph','asad','sharique','danish']\n"
   ]
  },
  {
   "cell_type": "code",
   "execution_count": 6,
   "id": "51ec1f34",
   "metadata": {},
   "outputs": [
    {
     "name": "stdout",
     "output_type": "stream",
     "text": [
      "['joseph', 'asad', 'sharique', 'danish']\n"
     ]
    }
   ],
   "source": [
    "print(students)\n"
   ]
  },
  {
   "cell_type": "code",
   "execution_count": 7,
   "id": "c4a572c2",
   "metadata": {},
   "outputs": [
    {
     "data": {
      "text/plain": [
       "list"
      ]
     },
     "execution_count": 7,
     "metadata": {},
     "output_type": "execute_result"
    }
   ],
   "source": [
    "type(students)"
   ]
  },
  {
   "cell_type": "code",
   "execution_count": null,
   "id": "9271c1cb",
   "metadata": {},
   "outputs": [],
   "source": [
    "Introduction To Indexing......?\n",
    "\n",
    "It's start from 0,1,2,3,4,.......Infinity"
   ]
  },
  {
   "cell_type": "code",
   "execution_count": 10,
   "id": "59aac412",
   "metadata": {},
   "outputs": [
    {
     "name": "stdout",
     "output_type": "stream",
     "text": [
      "<built-in method title of str object at 0x000002321D5770F0>\n"
     ]
    }
   ],
   "source": [
    "print(students[1].title)"
   ]
  },
  {
   "cell_type": "code",
   "execution_count": 11,
   "id": "8a1a6a43",
   "metadata": {},
   "outputs": [
    {
     "name": "stdout",
     "output_type": "stream",
     "text": [
      "Asad\n"
     ]
    }
   ],
   "source": [
    "print(students[1].title())"
   ]
  },
  {
   "cell_type": "code",
   "execution_count": 13,
   "id": "2f397c1c",
   "metadata": {},
   "outputs": [
    {
     "name": "stdout",
     "output_type": "stream",
     "text": [
      "DANISH\n"
     ]
    }
   ],
   "source": [
    "print(students[3].upper())"
   ]
  },
  {
   "cell_type": "code",
   "execution_count": 18,
   "id": "1e8ba9e5",
   "metadata": {},
   "outputs": [
    {
     "name": "stdout",
     "output_type": "stream",
     "text": [
      "joseph\n"
     ]
    }
   ],
   "source": [
    "print(students[0].lower())"
   ]
  },
  {
   "cell_type": "code",
   "execution_count": null,
   "id": "a6875acf",
   "metadata": {},
   "outputs": [],
   "source": [
    "#  1. How to add new elements to the list\n",
    "#  2. How to modify\n",
    "#  3. How to delet"
   ]
  },
  {
   "cell_type": "code",
   "execution_count": null,
   "id": "68b3a4b6",
   "metadata": {},
   "outputs": [],
   "source": [
    "req: need to add a neme(alamgeer) in existing list"
   ]
  },
  {
   "cell_type": "code",
   "execution_count": 17,
   "id": "15096522",
   "metadata": {},
   "outputs": [
    {
     "ename": "SyntaxError",
     "evalue": "invalid syntax (27444781.py, line 1)",
     "output_type": "error",
     "traceback": [
      "\u001b[1;36m  Input \u001b[1;32mIn [17]\u001b[1;36m\u001b[0m\n\u001b[1;33m    >>>>APPEND Method\u001b[0m\n\u001b[1;37m    ^\u001b[0m\n\u001b[1;31mSyntaxError\u001b[0m\u001b[1;31m:\u001b[0m invalid syntax\n"
     ]
    }
   ],
   "source": [
    "#>>>>APPEND Method (add the elemet at the reight most at the list)"
   ]
  },
  {
   "cell_type": "code",
   "execution_count": 20,
   "id": "c27ddaf3",
   "metadata": {},
   "outputs": [
    {
     "name": "stdout",
     "output_type": "stream",
     "text": [
      "['joseph', 'asad', 'sharique', 'danish', 'alamgeer', 'alamgeer']\n"
     ]
    }
   ],
   "source": [
    "students.append('alamgeer')\n",
    "print(students)"
   ]
  },
  {
   "cell_type": "code",
   "execution_count": 36,
   "id": "d7e8805c",
   "metadata": {},
   "outputs": [
    {
     "name": "stdout",
     "output_type": "stream",
     "text": [
      "Alamgeer\n"
     ]
    }
   ],
   "source": [
    "print(students[4].title())"
   ]
  },
  {
   "cell_type": "code",
   "execution_count": 38,
   "id": "af989dec",
   "metadata": {},
   "outputs": [
    {
     "name": "stdout",
     "output_type": "stream",
     "text": [
      "['joseph', 'asad', 'sharique', 'danish', 'alamgeer', 'alamgeer']\n"
     ]
    }
   ],
   "source": [
    "print(students)"
   ]
  },
  {
   "cell_type": "code",
   "execution_count": null,
   "id": "177b0174",
   "metadata": {},
   "outputs": [],
   "source": [
    "# >>>>>>>Insert Method(can insert the elements at required place in the list)"
   ]
  },
  {
   "cell_type": "code",
   "execution_count": 40,
   "id": "41b439b4",
   "metadata": {},
   "outputs": [
    {
     "name": "stdout",
     "output_type": "stream",
     "text": [
      "['joseph', 'asad', 'noor', 'sharique', 'danish', 'alamgeer', 'alamgeer']\n"
     ]
    }
   ],
   "source": [
    "students.insert(2,'noor')\n",
    "print(students)"
   ]
  },
  {
   "cell_type": "code",
   "execution_count": null,
   "id": "06c8e2ab",
   "metadata": {},
   "outputs": [],
   "source": []
  },
  {
   "cell_type": "code",
   "execution_count": null,
   "id": "14d56127",
   "metadata": {},
   "outputs": [],
   "source": []
  },
  {
   "cell_type": "code",
   "execution_count": null,
   "id": "ea56b3ca",
   "metadata": {},
   "outputs": [],
   "source": []
  },
  {
   "cell_type": "code",
   "execution_count": null,
   "id": "3db53165",
   "metadata": {},
   "outputs": [],
   "source": []
  },
  {
   "cell_type": "code",
   "execution_count": null,
   "id": "f2bf62b6",
   "metadata": {},
   "outputs": [],
   "source": []
  },
  {
   "cell_type": "code",
   "execution_count": null,
   "id": "39d665b6",
   "metadata": {},
   "outputs": [],
   "source": []
  },
  {
   "cell_type": "code",
   "execution_count": null,
   "id": "0accda28",
   "metadata": {},
   "outputs": [],
   "source": []
  },
  {
   "cell_type": "code",
   "execution_count": null,
   "id": "695d5823",
   "metadata": {},
   "outputs": [],
   "source": []
  },
  {
   "cell_type": "code",
   "execution_count": null,
   "id": "40f8b6bb",
   "metadata": {},
   "outputs": [],
   "source": []
  },
  {
   "cell_type": "code",
   "execution_count": null,
   "id": "a2783748",
   "metadata": {},
   "outputs": [],
   "source": []
  },
  {
   "cell_type": "code",
   "execution_count": null,
   "id": "c1e70db2",
   "metadata": {},
   "outputs": [],
   "source": []
  },
  {
   "cell_type": "code",
   "execution_count": null,
   "id": "3db1b954",
   "metadata": {},
   "outputs": [],
   "source": []
  },
  {
   "cell_type": "code",
   "execution_count": null,
   "id": "83322368",
   "metadata": {},
   "outputs": [],
   "source": []
  },
  {
   "cell_type": "code",
   "execution_count": null,
   "id": "c692d483",
   "metadata": {},
   "outputs": [],
   "source": []
  }
 ],
 "metadata": {
  "kernelspec": {
   "display_name": "Python 3 (ipykernel)",
   "language": "python",
   "name": "python3"
  },
  "language_info": {
   "codemirror_mode": {
    "name": "ipython",
    "version": 3
   },
   "file_extension": ".py",
   "mimetype": "text/x-python",
   "name": "python",
   "nbconvert_exporter": "python",
   "pygments_lexer": "ipython3",
   "version": "3.9.12"
  }
 },
 "nbformat": 4,
 "nbformat_minor": 5
}
